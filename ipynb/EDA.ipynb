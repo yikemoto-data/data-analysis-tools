{
 "cells": [
  {
   "cell_type": "markdown",
   "id": "9761d1c4",
   "metadata": {},
   "source": [
    "# EDA（Exploratory Data Analysis）"
   ]
  },
  {
   "cell_type": "code",
   "execution_count": 10,
   "id": "9071a052",
   "metadata": {},
   "outputs": [
    {
     "ename": "ModuleNotFoundError",
     "evalue": "No module named 'sklearn'",
     "output_type": "error",
     "traceback": [
      "\u001b[0;31m---------------------------------------------------------------------------\u001b[0m",
      "\u001b[0;31mModuleNotFoundError\u001b[0m                       Traceback (most recent call last)",
      "Cell \u001b[0;32mIn[10], line 1\u001b[0m\n\u001b[0;32m----> 1\u001b[0m \u001b[38;5;28;01mimport\u001b[39;00m \u001b[38;5;21;01msklearn\u001b[39;00m\n",
      "\u001b[0;31mModuleNotFoundError\u001b[0m: No module named 'sklearn'"
     ]
    }
   ],
   "source": [
    "import sklearn"
   ]
  },
  {
   "cell_type": "code",
   "execution_count": 8,
   "id": "e59ae525",
   "metadata": {},
   "outputs": [],
   "source": [
    "import pandas as pd\n",
    "import numpy as np\n",
    "import matplotlib.pyplot as plt\n",
    "import seaborn as sns"
   ]
  },
  {
   "cell_type": "code",
   "execution_count": null,
   "id": "c6ef0e98",
   "metadata": {},
   "outputs": [],
   "source": [
    "# データ読み込み\n",
    "employee_df = pd.read_csv('./input_data/employee_information.csv')\n",
    "display(employee_df.head(3))"
   ]
  },
  {
   "cell_type": "code",
   "execution_count": null,
   "id": "e7aa04a4",
   "metadata": {},
   "outputs": [],
   "source": [
    "# ヘッダーありデータでcolumn名を再定義したデータ読み込み\n",
    "employee_df = pd.read_csv('./input_data/employee_information.csv', names = ['col_1', 'col_2', 'col_3', 'col_4', 'col_5', 'col_6'], header=0)\n",
    "display(employee_df.head(3))"
   ]
  },
  {
   "cell_type": "code",
   "execution_count": null,
   "id": "fbff7a70",
   "metadata": {},
   "outputs": [],
   "source": [
    "# indexを定義したデータ読み込み\n",
    "employee_df = pd.read_csv('./input_data/employee_information.csv', index_col = 'First Name')\n",
    "display(employee_df.head(3))"
   ]
  },
  {
   "cell_type": "code",
   "execution_count": null,
   "id": "a2ba37b1",
   "metadata": {},
   "outputs": [],
   "source": [
    "# indexをリセット\n",
    "employee_df.reset_index(inplace=True)\n",
    "display(employee_df.head(3))"
   ]
  },
  {
   "cell_type": "code",
   "execution_count": null,
   "id": "4957899b",
   "metadata": {},
   "outputs": [],
   "source": [
    "# 行列数の確認\n",
    "employee_df.shape"
   ]
  },
  {
   "cell_type": "code",
   "execution_count": null,
   "id": "070c1113",
   "metadata": {},
   "outputs": [],
   "source": [
    "# データタイプの確認\n",
    "employee_df.dtypes"
   ]
  },
  {
   "cell_type": "code",
   "execution_count": null,
   "id": "9e67449d",
   "metadata": {},
   "outputs": [],
   "source": [
    "# 基本統計量の確認\n",
    "employee_df.describe()"
   ]
  },
  {
   "cell_type": "code",
   "execution_count": null,
   "id": "ac6017fd",
   "metadata": {},
   "outputs": [],
   "source": [
    "# カラム名の確認\n",
    "employee_df.columns"
   ]
  },
  {
   "cell_type": "code",
   "execution_count": null,
   "id": "9e436999",
   "metadata": {},
   "outputs": [],
   "source": [
    "# 特定のカラムを欠損させる\n",
    "employee_df = pd.read_csv('./input_data/employee_information.csv')\n",
    "employee_df.iloc[2, 3] = np.nan\n",
    "employee_df.iloc[4, 4] = np.nan"
   ]
  },
  {
   "cell_type": "code",
   "execution_count": null,
   "id": "1cf1632e",
   "metadata": {},
   "outputs": [],
   "source": [
    "# 欠損値の有無\n",
    "employee_df.isnull().any()"
   ]
  },
  {
   "cell_type": "code",
   "execution_count": null,
   "id": "b2b9bb1a",
   "metadata": {},
   "outputs": [],
   "source": [
    "# 欠損値の数\n",
    "employee_df.isnull().sum()"
   ]
  },
  {
   "cell_type": "code",
   "execution_count": null,
   "id": "4b37e59d",
   "metadata": {},
   "outputs": [],
   "source": [
    "# 欠損値ではない数やデータ型を表示\n",
    "employee_df.info()"
   ]
  },
  {
   "cell_type": "code",
   "execution_count": null,
   "id": "87b088e6",
   "metadata": {},
   "outputs": [],
   "source": [
    "# Nullデータ行を削除\n",
    "employee_df.dropna(how = 'any')"
   ]
  },
  {
   "cell_type": "code",
   "execution_count": null,
   "id": "eb8ace1b",
   "metadata": {},
   "outputs": [],
   "source": [
    "# 特定列のNullデータ行を削除\n",
    "employee_df.dropna(how = 'any', subset = 'Years with Company')"
   ]
  },
  {
   "cell_type": "code",
   "execution_count": null,
   "id": "e015dd9b",
   "metadata": {},
   "outputs": [],
   "source": [
    "employee_df = pd.read_csv('./input_data/employee_information.csv')"
   ]
  },
  {
   "cell_type": "code",
   "execution_count": null,
   "id": "440f61c9",
   "metadata": {},
   "outputs": [],
   "source": [
    "# 特定行のみにアクセス\n",
    "employee_df[5:8]"
   ]
  },
  {
   "cell_type": "code",
   "execution_count": null,
   "id": "82771f8c",
   "metadata": {},
   "outputs": [],
   "source": [
    "# 任意の列にデータを追加\n",
    "employee_df.insert(0, column = 'Credit Score', value = [680, 700, 750, 699, 550, 600, 750, 500, 520, 510])\n",
    "display(employee_df.head(3))"
   ]
  },
  {
   "cell_type": "code",
   "execution_count": null,
   "id": "d2307681",
   "metadata": {},
   "outputs": [],
   "source": [
    "# 特定列を削除\n",
    "employee_df.drop(labels = [\"Last Name\", \"Salary\"], axis = 1).head(3)"
   ]
  },
  {
   "cell_type": "code",
   "execution_count": null,
   "id": "b8d90c60",
   "metadata": {},
   "outputs": [],
   "source": [
    "# 特定列を削除\n",
    "del employee_df['Credit Score']\n",
    "display(employee_df.head(3))"
   ]
  },
  {
   "cell_type": "code",
   "execution_count": null,
   "id": "d6d6c000",
   "metadata": {},
   "outputs": [],
   "source": [
    "# intやfloat型だけを選択\n",
    "employee_df.select_dtypes(include='number')"
   ]
  },
  {
   "cell_type": "code",
   "execution_count": null,
   "id": "c15be073",
   "metadata": {},
   "outputs": [],
   "source": [
    "# strやlist, dict型を選択\n",
    "employee_df.select_dtypes(include='object')"
   ]
  },
  {
   "cell_type": "code",
   "execution_count": null,
   "id": "8a42f6e5",
   "metadata": {},
   "outputs": [],
   "source": [
    "# 特定indexの行を選択\n",
    "employee_df.loc[0]"
   ]
  },
  {
   "cell_type": "code",
   "execution_count": null,
   "id": "bd808ea6",
   "metadata": {},
   "outputs": [],
   "source": [
    "# 特定indexの行を選択\n",
    "employee_df.iloc[1]"
   ]
  },
  {
   "cell_type": "code",
   "execution_count": null,
   "id": "26604dd4",
   "metadata": {},
   "outputs": [],
   "source": [
    "# 特定indexの行を選択\n",
    "employee_df.iloc[[2, 4, 9]]"
   ]
  },
  {
   "cell_type": "code",
   "execution_count": null,
   "id": "cab369f1",
   "metadata": {},
   "outputs": [],
   "source": [
    "# 特定indexの行を選択した後に特定列を選択\n",
    "employee_df.iloc[4, 0:3]"
   ]
  },
  {
   "cell_type": "code",
   "execution_count": null,
   "id": "abb61952",
   "metadata": {},
   "outputs": [],
   "source": [
    "# ランダムな行を選択\n",
    "employee_df.sample(n = 5, axis = 0) # axis = 0 は行, axis = 1 は列を意味する"
   ]
  },
  {
   "cell_type": "code",
   "execution_count": null,
   "id": "160c3197",
   "metadata": {},
   "outputs": [],
   "source": [
    "# ランダムな列を選択\n",
    "employee_df.sample(n = 3, axis = 1).head(3) # axis = 0 は行, axis = 1 は列を意味する"
   ]
  },
  {
   "cell_type": "code",
   "execution_count": null,
   "id": "160e12cc",
   "metadata": {},
   "outputs": [],
   "source": [
    "# ソート\n",
    "employee_df.sort_values('Years with Company', ascending=True).head() # ascending= Trueは昇順、Falseは降順"
   ]
  },
  {
   "cell_type": "code",
   "execution_count": null,
   "id": "678c9b88",
   "metadata": {},
   "outputs": [],
   "source": [
    "# 特定のカラムを欠損させる\n",
    "employee_df = pd.read_csv('./input_data/employee_information.csv')\n",
    "employee_df.iloc[1, 2] = np.nan\n",
    "employee_df.head(3)"
   ]
  },
  {
   "cell_type": "code",
   "execution_count": null,
   "id": "ba709d3c",
   "metadata": {},
   "outputs": [],
   "source": [
    "# 欠損値を平均で穴埋め\n",
    "employee_df[\"Salary\"].fillna(employee_df['Salary'].mean(), inplace = True)\n",
    "employee_df.head(3)"
   ]
  },
  {
   "cell_type": "code",
   "execution_count": null,
   "id": "5be23bd2",
   "metadata": {},
   "outputs": [],
   "source": [
    "# 重複削除\n",
    "employee_df.drop_duplicates().head(3)"
   ]
  },
  {
   "cell_type": "code",
   "execution_count": null,
   "id": "5097bdd3",
   "metadata": {},
   "outputs": [],
   "source": [
    "# 統計量を表示\n",
    "hr_df = pd.read_csv('./input_data/Human_Resources.csv')\n",
    "hr_df.hist(bins = 30, figsize = (20,20), color = 'r');"
   ]
  },
  {
   "cell_type": "code",
   "execution_count": null,
   "id": "ddf7f58c",
   "metadata": {},
   "outputs": [],
   "source": [
    "tmp_hr_df = hr_df.select_dtypes(include='number')\n",
    "correlations = tmp_hr_df.corr()\n",
    "f, ax = plt.subplots(figsize = (20, 20))\n",
    "sns.heatmap(correlations, annot = True)"
   ]
  }
 ],
 "metadata": {
  "kernelspec": {
   "display_name": "Python 3 (ipykernel)",
   "language": "python",
   "name": "python3"
  },
  "language_info": {
   "codemirror_mode": {
    "name": "ipython",
    "version": 3
   },
   "file_extension": ".py",
   "mimetype": "text/x-python",
   "name": "python",
   "nbconvert_exporter": "python",
   "pygments_lexer": "ipython3",
   "version": "3.9.6"
  }
 },
 "nbformat": 4,
 "nbformat_minor": 5
}
